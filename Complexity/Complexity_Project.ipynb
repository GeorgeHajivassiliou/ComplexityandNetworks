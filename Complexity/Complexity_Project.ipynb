{
 "cells": [
  {
   "cell_type": "markdown",
   "metadata": {},
   "source": [
    "# Complexity Project\n",
    "\n",
    "## Self-Organised Critical Model\n",
    "\n",
    "This will be a study of the Oslo Model."
   ]
  },
  {
   "cell_type": "code",
   "execution_count": 2,
   "metadata": {},
   "outputs": [],
   "source": [
    "import numpy as np\n",
    "import matplotlib.pyplot as plt\n",
    "import pandas as pd"
   ]
  },
  {
   "cell_type": "code",
   "execution_count": 38,
   "metadata": {},
   "outputs": [],
   "source": [
    "\n",
    "\n",
    "#initialise the system:\n",
    "def initialise(L,probability = 0.5):\n",
    "    '''\n",
    "    Initialises a pile following the Oslo Model of size L\n",
    "    probability (float) : probability with which to assign the value 1 to slopes (assign 2 with probability 1-p)\n",
    "    '''\n",
    "    #We are going to use a one sided 1D system\n",
    "    #we need a place to store the slopes and threshold slopes at each site\n",
    "    #I will use python arrays\n",
    "    h = 0\n",
    "    z = np.zeros(L)\n",
    "    zth = np.zeros(L)\n",
    "    \n",
    "    \n",
    "    #initialise the threshold slopes\n",
    "    p = np.random.rand(L)  #array of size L with random values between 0 and 1\n",
    "    zth = (p > probability) + 1  # P > 0.5 returns a series of zeros and ones according to the condition. Adding 1 returns a series of\n",
    "                        #random one's and two's are required\n",
    "    \n",
    "    return h,z,zth\n",
    "\n",
    "def drive(h,z):\n",
    "    '''\n",
    "    h (intiger) : Height at size i = 0\n",
    "    z (array) : holds slopes value at each site\n",
    "    The funtion will drive the pile by 1\n",
    "    '''\n",
    "    h += 1\n",
    "    z[0] += 1\n",
    "    \n",
    "    return h,z\n",
    "\n",
    "\n",
    "def relax(h,z,zth,probability = 0.5): \n",
    "    '''\n",
    "    h (intiger) : Height at size i = 0\n",
    "    z (array) : holds slopes value at each site\n",
    "    zth (array) : hold threshold slope at each site\n",
    "    probability (float) : probability with which to assign the value 1 to slopes (assign 2 with probability 1-p)\n",
    "    The function will iterate until all sites are relaxed according to the oslo model algorythm\n",
    "    '''\n",
    "    \n",
    "    critical = False #just to know when the system has become critical (reached steady state)\n",
    "    L = len(z)\n",
    "    c = 0\n",
    "    avalanche_size = 0\n",
    "    #we have to relax until there are not more sites to topple\n",
    "    topple = z > zth #return the locations that need to tople (array with zeros and ones)\n",
    "    avalanche_size += sum(topple) #by the definition of avalanche size\n",
    "    \n",
    "    while any(topple) == True: #while there are still sites to topple\n",
    "        #print (2*topple)\n",
    "        if topple[-1] == True: #if the last site topples then the pile has become critical\n",
    "            critical = True\n",
    "            #print(\"critical\")\n",
    "        #h -= topple[0]\n",
    "        #h[1] += topple[0]\n",
    "        z[0] -= 2*topple[0]\n",
    "        z[1] += topple[0]\n",
    "\n",
    "        \n",
    "        #the way to update the slope array has been vectorised\n",
    "        #the traditional way (simple applying the algorythm sequentially) is shown bellow but is commented out\n",
    "        '''\n",
    "        #do the rest automatically (appart from the last one)\n",
    "        for i in range(1,L-1): #this will go up to L-2\n",
    "            #h[i] -= topple[i]\n",
    "            #h[i+1] += topple[i]\n",
    "\n",
    "            z[i] -= 2*topple[i]\n",
    "            z[i-1] += topple[i]\n",
    "            z[i+1] += topple[i]\n",
    "        #'''\n",
    "\n",
    "        #intsted we use the topple array\n",
    "        #we cut it and rearrange it in a way that when we appply it on the slopes array (z)\n",
    "        #all sites are relaxed simultaniously\n",
    "        \n",
    "        topple_central = np.concatenate((np.zeros(1),topple[1:-1],np.zeros(1)))\n",
    "        topple_plus_1 =  np.concatenate((np.zeros(2),topple[1:-1]))\n",
    "        topple_minus_1 =  np.concatenate((topple[1:-1],np.zeros(2)))\n",
    "        \n",
    "        z -= 2*topple_central\n",
    "        z += 1*topple_plus_1\n",
    "        z += 1*topple_minus_1\n",
    "        #'''\n",
    "\n",
    "        #h[-1] -= topple[-1]   \n",
    "        z[-1] -= topple[-1]\n",
    "        z[-2] += topple[-1]\n",
    "        \n",
    "        \n",
    "        #before getting the new toppling sites we need to renew the toppling probabilities of the old ones\n",
    "        #print(zth)\n",
    "        p = np.random.rand(L) #this is the same method used in the initialisation\n",
    "        #print (p)\n",
    "        new_zth = (p > probability) + 1\n",
    "        #print (new_zth)\n",
    "        zth = zth + (topple * (-zth + new_zth))\n",
    "        #print(h,z,zth)\n",
    "                \n",
    "        topple = z > zth #get new toppling sites\n",
    "        avalanche_size += sum(topple)\n",
    "        \n",
    "\n",
    "    return h,z,zth,critical,avalanche_size\n"
   ]
  },
  {
   "cell_type": "code",
   "execution_count": 3,
   "metadata": {},
   "outputs": [],
   "source": [
    "#we define a simple function to hold values of the height\n",
    "#the used can choose to save those values as txt files\n",
    "hplot = []\n",
    "def count_hight(n,L):\n",
    "    h,z,zth = initialise(L)\n",
    "    height = []\n",
    "    h1 = []\n",
    "    for t in range(0,n):\n",
    "        h,z = drive(h,z)\n",
    "        h,z,zth,c,s = relax(h,z,zth)   \n",
    "        #height.append(h)\n",
    "        h1.append(sum(z))\n",
    "    return h1\n",
    "     \n",
    "h4 = count_hight(10000,4)\n",
    "#np.savetxt(\"L_123_height_counts.txt\", h4)\n"
   ]
  },
  {
   "cell_type": "code",
   "execution_count": 27,
   "metadata": {},
   "outputs": [],
   "source": [
    "#100000 heights where recorded for all sizes and save as txt files\n",
    "#below is the last call:\n",
    "#h256 = count_hight(100000,256)\n",
    "#np.savetxt(\"L_256_height_counts.txt\", h256)"
   ]
  },
  {
   "cell_type": "code",
   "execution_count": 32,
   "metadata": {},
   "outputs": [
    {
     "data": {
      "image/png": "[encoded data removed]",
      "text/plain": [
       "<Figure size 432x288 with 1 Axes>"
      ]
     },
     "metadata": {
      "needs_background": "light"
     },
     "output_type": "display_data"
    }
   ],
   "source": [
    "#the heights recorded above are plotted here:\n",
    "h4 = list(np.loadtxt(\"L_4_height_counts.txt\"))\n",
    "plt.plot(h4,color = \"brown\", label = \"$L$ = 4\")\n",
    "h8 = list(np.loadtxt(\"L_8_height_counts.txt\"))\n",
    "plt.plot(h8,color = \"purple\", label = \"$L$ = 8\")\n",
    "h16 = list(np.loadtxt(\"L_16_height_counts.txt\"))\n",
    "plt.plot(h16,color = \"gray\", label = \"$L$ = 16\")\n",
    "h32 = list(np.loadtxt(\"L_32_height_counts.txt\"))\n",
    "plt.plot(h32,color = \"red\", label = \"$L$ = 32\")\n",
    "h64 = list(np.loadtxt(\"L_64_height_counts.txt\"))\n",
    "plt.plot(h64,color = \"blue\", label = \"$L$ = 64\")\n",
    "h128 = list(np.loadtxt(\"L_128_height_counts.txt\"))\n",
    "plt.plot(h128,color = \"green\", label = \"$L$ = 128\")\n",
    "h256 = list(np.loadtxt(\"L_256_height_counts.txt\"))\n",
    "plt.plot(h256,color = \"black\", label = \"$L$ = 256\")\n",
    "\n",
    "#h4 = 0 #no reason to hold these very long lists on memory#\n",
    "#h8 = 0\n",
    "#h16 = 0\n",
    "#h32 = 0\n",
    "#h64 = 0\n",
    "#h128 = 0\n",
    "#h256 = 0\n",
    "\n",
    "plt.grid()\n",
    "plt.xlabel(\"Time\")\n",
    "plt.ylabel(\"Height $H(t;L)$\")\n",
    "plt.legend(loc = \"upper right\")\n",
    "#print(\"Average Height = \",h)\n",
    "#plt.savefig(\"Height_time.pdf\")"
   ]
  },
  {
   "cell_type": "code",
   "execution_count": 8,
   "metadata": {},
   "outputs": [],
   "source": [
    "#in the boxes below systems of all sizes are initialised n times and the heights for all of them are\n",
    "#recorded in csv files\n",
    "#these are used in the Data_Analysis_Height.ipynb notebook\n",
    "n = 10\n",
    "t = 70000\n",
    "store = np.zeros((n,t))\n",
    "for i in range(0,n):\n",
    "    store[i] = count_hight(t,4)\n",
    "save = pd.DataFrame(store)\n",
    "save.to_csv(\"L_4_10_Runs.cvs\")"
   ]
  },
  {
   "cell_type": "code",
   "execution_count": 9,
   "metadata": {},
   "outputs": [],
   "source": [
    "n = 10\n",
    "t = 70000\n",
    "store = np.zeros((n,t))\n",
    "for i in range(0,n):\n",
    "    store[i] = count_hight(t,8)\n",
    "save = pd.DataFrame(store)\n",
    "save.to_csv(\"L_8_10_Runs.cvs\")"
   ]
  },
  {
   "cell_type": "code",
   "execution_count": null,
   "metadata": {},
   "outputs": [],
   "source": [
    "#now we need to collect data for many realisations\n",
    "#we can define a loop\n",
    "n = 10\n",
    "t = 70000\n",
    "store = np.zeros((n,t))\n",
    "for i in range(0,n):\n",
    "    store[i] = count_hight(t,64)\n",
    "save = pd.DataFrame(store)\n",
    "save.to_csv(\"L_64_10_Runs.cvs\")"
   ]
  },
  {
   "cell_type": "code",
   "execution_count": 59,
   "metadata": {},
   "outputs": [],
   "source": [
    "n = 10\n",
    "t = 10000\n",
    "store = np.zeros((n,t))\n",
    "for i in range(0,n):\n",
    "    store[i] = count_hight(t,32)\n",
    "save = pd.DataFrame(store)\n",
    "save.to_csv(\"L_32_10_Runs.cvs\")"
   ]
  },
  {
   "cell_type": "code",
   "execution_count": 65,
   "metadata": {},
   "outputs": [],
   "source": [
    "n = 10\n",
    "t = 20000\n",
    "store = np.zeros((n,t))\n",
    "for i in range(0,n):\n",
    "    store[i] = count_hight(t,128)\n",
    "save = pd.DataFrame(store)\n",
    "save.to_csv(\"L_128_10_Runs.cvs\")\n"
   ]
  },
  {
   "cell_type": "code",
   "execution_count": null,
   "metadata": {},
   "outputs": [],
   "source": [
    "n = 10\n",
    "t = 80000\n",
    "store = np.zeros((n,t))\n",
    "for i in range(0,n):\n",
    "    store[i] = count_hight(t,256)\n",
    "save = pd.DataFrame(store)\n",
    "save.to_csv(\"L_256_10_Runs.cvs\")"
   ]
  },
  {
   "cell_type": "code",
   "execution_count": 60,
   "metadata": {},
   "outputs": [],
   "source": [
    "n = 10\n",
    "t = 16000\n",
    "store = np.zeros((n,t))\n",
    "for i in range(0,n):\n",
    "    store[i] = count_hight(t,16)\n",
    "save = pd.DataFrame(store)\n",
    "save.to_csv(\"L_16_10_Runs.cvs\")"
   ]
  },
  {
   "cell_type": "code",
   "execution_count": 7,
   "metadata": {},
   "outputs": [],
   "source": [
    "n = 10\n",
    "t = 30000\n",
    "store = np.zeros((n,t))\n",
    "for i in range(0,n):\n",
    "    store[i] = count_hight(t,512)\n",
    "save = pd.DataFrame(store)\n",
    "save.to_csv(\"L_512_10_Runs.cvs\")"
   ]
  },
  {
   "cell_type": "markdown",
   "metadata": {},
   "source": [
    "### Here we change from measureing height to measuring the critical time"
   ]
  },
  {
   "cell_type": "code",
   "execution_count": 6,
   "metadata": {},
   "outputs": [
    {
     "name": "stdout",
     "output_type": "stream",
     "text": [
      "17\n"
     ]
    }
   ],
   "source": [
    "#we will define a function that runs a system until the critical point is reached an then returns the critical time\n",
    "def find_critical(L):\n",
    "    h,z,zth = initialise(L)\n",
    "    t = 0\n",
    "    c = False #hold whether the pile is critical or not\n",
    "    i = 0\n",
    "    while c == False:\n",
    "        #print(\"running\")\n",
    "        h,z = drive(h,z)\n",
    "        t += 1 #add one to the time whenever the the pile is driven\n",
    "        #print(t)\n",
    "        h,z,zth,c,s = relax(h,z,zth)   \n",
    "    return t#,z\n",
    "\n",
    "     \n",
    "t = find_critical(4)\n",
    "print(t)"
   ]
  },
  {
   "cell_type": "code",
   "execution_count": 9,
   "metadata": {},
   "outputs": [
    {
     "name": "stdout",
     "output_type": "stream",
     "text": [
      "0\n",
      "1\n",
      "2\n",
      "3\n",
      "4\n",
      "5\n",
      "6\n",
      "7\n",
      "8\n",
      "9\n",
      "56043.6\n",
      "387.24700127954503\n"
     ]
    }
   ],
   "source": [
    "#we can run the above function several times to get a good average of the critical time\n",
    "t = []\n",
    "for i in range(10):\n",
    "    print (i)\n",
    "    time = find_critical(256)\n",
    "    t.append(time)\n",
    "    #zet.append(z)\n",
    "    \n",
    "print (np.mean(t))\n",
    "print( np.std(t))"
   ]
  },
  {
   "cell_type": "code",
   "execution_count": 46,
   "metadata": {},
   "outputs": [],
   "source": [
    "#need to define another function to measure the slopes after t_c\n",
    "def count_zet(n,L):\n",
    "    h,z,zth = initialise(L)\n",
    "    zet = []\n",
    "    for t in range(0,n):\n",
    "        h,z = drive(h,z)\n",
    "        h,z,zth,c = relax(h,z,zth)   \n",
    "        #height.append(h)\n",
    "        zet.append(np.mean(z))\n",
    "    return zet\n",
    "     \n",
    "z1 = count_zet(6000,16)"
   ]
  },
  {
   "cell_type": "markdown",
   "metadata": {},
   "source": [
    "### Probability Size\n",
    "The following section concertns measuring the probability size for different system sizes"
   ]
  },
  {
   "cell_type": "code",
   "execution_count": null,
   "metadata": {},
   "outputs": [],
   "source": [
    "#it's faster to run the pile until it becomes crtitical and then start sampling\n",
    "#we can define\n",
    "def count_size(n,L): #count avalanche size\n",
    "    h,z,zth = initialise(L)\n",
    "    t = 0\n",
    "    c = False #hold whether the pile is critical or not\n",
    "    s1 = [] #hold the values of \n",
    "    while c == False:\n",
    "        h,z = drive(h,z)\n",
    "        t += 1 #add one to the time whenever the the pile is drivenn,\n",
    "        h,z,zth,c,s = relax(h,z,zth) \n",
    "    print(\"critical!\")\n",
    "    for t in range(0,n):\n",
    "        h,z = drive(h,z)\n",
    "        h,z,zth,c,s = relax(h,z,zth)   \n",
    "        s1.append(s)\n",
    "    return s1\n",
    "\n",
    "\n",
    "s = count_size(50000,512)\n",
    "print(\"done!\")\n",
    "max(s)\n",
    "\n",
    "#np.savetxt(\"L_512_avalanche_size_counts.txt\", s) can save avalanche sizes in txt file"
   ]
  }
 ],
 "metadata": {
  "kernelspec": {
   "display_name": "Python 3",
   "language": "python",
   "name": "python3"
  },
  "language_info": {
   "codemirror_mode": {
    "name": "ipython",
    "version": 3
   },
   "file_extension": ".py",
   "mimetype": "text/x-python",
   "name": "python",
   "nbconvert_exporter": "python",
   "pygments_lexer": "ipython3",
   "version": "3.7.0"
  }
 },
 "nbformat": 4,
 "nbformat_minor": 2
}
