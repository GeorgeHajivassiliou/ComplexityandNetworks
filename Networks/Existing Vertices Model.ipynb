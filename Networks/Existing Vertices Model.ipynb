{
 "cells": [
  {
   "cell_type": "markdown",
   "metadata": {},
   "source": [
    "# Networks Project\n"
   ]
  },
  {
   "cell_type": "code",
   "execution_count": 1,
   "metadata": {},
   "outputs": [
    {
     "name": "stderr",
     "output_type": "stream",
     "text": [
      "C:\\Users\\George\\Anaconda3\\lib\\site-packages\\ipykernel\\parentpoller.py:116: UserWarning: Parent poll failed.  If the frontend dies,\n",
      "                the kernel may be left running.  Please let us know\n",
      "                about your system (bitness, Python, etc.) at\n",
      "                ipython-dev@scipy.org\n",
      "  ipython-dev@scipy.org\"\"\")\n"
     ]
    }
   ],
   "source": [
    "import numpy as np\n",
    "import matplotlib.pyplot as plt\n",
    "import networkx as nx\n",
    "import random as rd\n",
    "from collections import Counter\n",
    "from scipy.optimize import curve_fit\n"
   ]
  },
  {
   "cell_type": "code",
   "execution_count": 2,
   "metadata": {},
   "outputs": [
    {
     "name": "stdout",
     "output_type": "stream",
     "text": [
      "[[1, 2], [0, 1], [0, 2]]\n"
     ]
    }
   ],
   "source": [
    "#will dfine a list that wolds all the vertices\n",
    "#a vertex is represented as the list which holds all its neighbours\n",
    "#we can make an initian graph\n",
    "g1 = []\n",
    "e0 = [1,2] #will include the subcript 0 to be in concordance\n",
    "#with python's list notation (which includes a zeroth entry in a list)\n",
    "e1 = [0,1]\n",
    "e2 = [0,2]\n",
    "g1 = [e0,e1,e2]\n",
    "print(g1)\n",
    "#we can also save the nodes as a single number\n",
    "n = 2\n",
    "#this automatically means that we have nodes 0,1,2 (--> 3 nodes)\n",
    "#we do not need a list to do this\n",
    "\n",
    "#we also need a list to store the degree\n",
    "d = [2,2,2]"
   ]
  },
  {
   "cell_type": "code",
   "execution_count": 3,
   "metadata": {},
   "outputs": [
    {
     "data": {
      "image/png": "[encoded data removed]",
      "text/plain": [
       "<Figure size 432x288 with 1 Axes>"
      ]
     },
     "metadata": {},
     "output_type": "display_data"
    }
   ],
   "source": [
    "G=nx.Graph()\n",
    "G.add_edges_from(g1)\n",
    "nx.draw(G)\n",
    "plt.show()"
   ]
  },
  {
   "cell_type": "code",
   "execution_count": 4,
   "metadata": {},
   "outputs": [],
   "source": [
    "#I think I have decided how to grow my network\n",
    "#it will be a list of edges\n",
    "#then every time I need to visualise I can throw it in networks\n",
    "#so..we can stat with g1 above and grow it using the BA algorythm\n",
    "\n",
    "def step(edges,degree,t,m):\n",
    "    \"\"\"\n",
    "    Take a tree with a set of edges and a degree distribution and grows it using the BA algorythm\n",
    "    The set of edges is sufficiet to describe the tree but the degree distribution is kept for convinience\n",
    "    (So that we don't have to count it from the edges every time)\n",
    "    \"\"\"\n",
    "    t += 1\n",
    "\n",
    "    for i in range(0,int(m/2)): \n",
    "        #pick random node\n",
    "        node1,node2 = rd.choices(range(0,len(degree)),k=2,)\n",
    "        degree[node1] += 1\n",
    "        degree[node2] += 1\n",
    "        newedge = [node1,node2] #len(degree) is also the number of the last vertex, node is counting the last node\n",
    "        edges.append(newedge)   \n",
    "       \n",
    "    #add a new vertex   \n",
    "    degree.append(int(m/2)) #this new vertex will have m/2 extra degrees   \n",
    "\n",
    "    for i in range(0,int(m/2)): \n",
    "        #pick random edge\n",
    "        e = rd.choice(edges)\n",
    "        #pick random node from thsi edge\n",
    "        node = rd.choice(e)\n",
    "        degree[node] += 1\n",
    "        newedge = [len(degree)-1,node] #len(degree) is also the number of the last vertex, node is counting the last node\n",
    "        edges.append(newedge)   \n",
    "        \n",
    "    return edges,degree,t"
   ]
  },
  {
   "cell_type": "code",
   "execution_count": null,
   "metadata": {},
   "outputs": [],
   "source": []
  },
  {
   "cell_type": "code",
   "execution_count": 114,
   "metadata": {},
   "outputs": [],
   "source": [
    "#this is the same tree explained above just repeated here for convinience\n",
    "g1 = []\n",
    "e0 = [0,1] \n",
    "#e1 = [0,1]\n",
    "#e2 = [0,2]\n",
    "g1 = [e0]\n",
    "d3 = [1,1]"
   ]
  },
  {
   "cell_type": "code",
   "execution_count": 118,
   "metadata": {},
   "outputs": [
    {
     "name": "stdout",
     "output_type": "stream",
     "text": [
      "[[0, 1], [0, 0], [1, 0], [2, 1], [2, 1], [1, 1], [0, 2], [3, 1], [3, 0], [3, 0], [0, 0], [4, 2], [4, 2], [1, 0], [3, 1], [5, 0], [5, 0]] [12, 9, 5, 4, 2, 2]\n"
     ]
    },
    {
     "data": {
      "image/png": "[encoded data removed]",
      "text/plain": [
       "<Figure size 432x288 with 1 Axes>"
      ]
     },
     "metadata": {},
     "output_type": "display_data"
    },
    {
     "data": {
      "text/plain": [
       "<Figure size 432x288 with 0 Axes>"
      ]
     },
     "metadata": {},
     "output_type": "display_data"
    }
   ],
   "source": [
    "t = 0\n",
    "g1, d3, t1 = step(g1,d3,t,4)\n",
    "print(g1,d3)\n",
    "G=nx.Graph()\n",
    "G.add_edges_from(g1)\n",
    "nx.draw(G)\n",
    "\n",
    "plt.show()\n",
    "plt.savefig(\"Figures\\\\Network_Example.pdf\")"
   ]
  },
  {
   "cell_type": "code",
   "execution_count": 5,
   "metadata": {},
   "outputs": [],
   "source": [
    "#having aquired a degree distribution that seems right we can move on to log-binning the data and doing proper statistics\n",
    "def logbin(data, scale = 1., zeros = False):\n",
    "    \"\"\"\n",
    "    logbin(data, scale = 1., zeros = False)\n",
    "\n",
    "    Log-bin frequency of unique integer values in data. Returns probabilities\n",
    "    for each bin.\n",
    "\n",
    "    Array, data, is a 1-d array containing full set of event sizes for a\n",
    "    given process in no particular order. For instance, in the Oslo Model\n",
    "    the array may contain the avalanche size recorded at each time step. For\n",
    "    a complex network, the array may contain the degree of each node in the\n",
    "    network. The logbin function finds the frequency of each unique value in\n",
    "    the data array. The function then bins these frequencies in logarithmically\n",
    "    increasing bin sizes controlled by the scale parameter.\n",
    "\n",
    "    Minimum binsize is always 1. Bin edges are lowered to nearest integer. Bins\n",
    "    are always unique, i.e. two different float bin edges corresponding to the\n",
    "    same integer interval will not be included twice. Note, rounding to integer\n",
    "    values results in noise at small event sizes.\n",
    "\n",
    "    Parameters\n",
    "    ----------\n",
    "\n",
    "    data: array_like, 1 dimensional, non-negative integers\n",
    "          Input array. (e.g. Raw avalanche size data in Oslo model.)\n",
    "\n",
    "    scale: float, greater or equal to 1.\n",
    "          Scale parameter controlling the growth of bin sizes.\n",
    "          If scale = 1., function will return frequency of each unique integer\n",
    "          value in data with no binning.\n",
    "\n",
    "    zeros: boolean\n",
    "          Set zeros = True if you want binning function to consider events of\n",
    "          size 0.\n",
    "          Note that output cannot be plotted on log-log scale if data contains\n",
    "          zeros. If zeros = False, events of size 0 will be removed from data.\n",
    "\n",
    "    Returns\n",
    "    -------\n",
    "\n",
    "    x: array_like, 1 dimensional\n",
    "          Array of coordinates for bin centres calculated using geometric mean\n",
    "          of bin edges. Bins with a count of 0 will not be returned.\n",
    "    y: array_like, 1 dimensional\n",
    "          Array of normalised frequency counts within each bin. Bins with a\n",
    "          count of 0 will not be returned.\n",
    "    \"\"\"\n",
    "    if scale < 1:\n",
    "        raise ValueError('Function requires scale >= 1.')\n",
    "    count = np.bincount(data)\n",
    "    tot = np.sum(count)\n",
    "    smax = np.max(data)\n",
    "    if scale > 1:\n",
    "        jmax = np.ceil(np.log(smax)/np.log(scale))\n",
    "        if zeros:\n",
    "            binedges = scale ** np.arange(jmax + 1)\n",
    "            binedges[0] = 0\n",
    "        else:\n",
    "            binedges = scale ** np.arange(1,jmax + 1)\n",
    "            # count = count[1:]\n",
    "        binedges = np.unique(binedges.astype('uint64'))\n",
    "        x = (binedges[:-1] * (binedges[1:]-1)) ** 0.5\n",
    "        y = np.zeros_like(x)\n",
    "        count = count.astype('float')\n",
    "        for i in range(len(y)):\n",
    "            y[i] = np.sum(count[binedges[i]:binedges[i+1]]/(binedges[i+1] - binedges[i]))\n",
    "            # print(binedges[i],binedges[i+1])\n",
    "        # print(smax,jmax,binedges,x)\n",
    "        # print(x,y)\n",
    "    else:\n",
    "        x = np.nonzero(count)[0]\n",
    "        y = count[count != 0].astype('float')\n",
    "        if zeros != True and x[0] == 0:\n",
    "            x = x[1:]\n",
    "            y = y[1:]\n",
    "    y /= tot\n",
    "    x = x[y!=0]\n",
    "    y = y[y!=0]\n",
    "    return x,y"
   ]
  },
  {
   "cell_type": "markdown",
   "metadata": {},
   "source": [
    "Article on scale-free networks and how to compare models to data:\n",
    "https://www.nature.com/articles/s41467-019-08746-5#auth-2"
   ]
  },
  {
   "cell_type": "code",
   "execution_count": 6,
   "metadata": {},
   "outputs": [],
   "source": [
    "#write a functio to automate:\n",
    "def grow_a_net(T,m):\n",
    "    g1 = []\n",
    "    e0 = [0,1] \n",
    "    #e1 = [0,1]\n",
    "    #e2 = [0,2]\n",
    "    g1 = [e0]\n",
    "    d = [1,1]\n",
    "    for t in range(T):\n",
    "            g1, d, t1 = step(g1,d,t,m)\n",
    "            \n",
    "    return g1,d,t1"
   ]
  },
  {
   "cell_type": "code",
   "execution_count": 8,
   "metadata": {},
   "outputs": [
    {
     "name": "stdout",
     "output_type": "stream",
     "text": [
      "Wall time: 18.2 s\n"
     ]
    }
   ],
   "source": [
    "%time g1, d, t1 = grow_a_net(1000000,2)"
   ]
  },
  {
   "cell_type": "code",
   "execution_count": 130,
   "metadata": {},
   "outputs": [
    {
     "data": {
      "text/plain": [
       "10000002"
      ]
     },
     "execution_count": 130,
     "metadata": {},
     "output_type": "execute_result"
    }
   ],
   "source": [
    "len(d)"
   ]
  },
  {
   "cell_type": "code",
   "execution_count": 30,
   "metadata": {},
   "outputs": [
    {
     "name": "stdout",
     "output_type": "stream",
     "text": [
      "Wall time: 11 s\n",
      "Wall time: 11.7 s\n",
      "Wall time: 11 s\n",
      "Wall time: 13 s\n",
      "Wall time: 17.5 s\n",
      "Wall time: 11.8 s\n",
      "Wall time: 11.3 s\n",
      "Wall time: 10.5 s\n",
      "Wall time: 9.5 s\n",
      "Wall time: 6.3 s\n"
     ]
    }
   ],
   "source": [
    "#let's grow some nets!\n",
    "d16 =[]\n",
    "for i in range(10):\n",
    "    %time g1, d, t1 = grow_a_net(99998,16)\n",
    "    d16.append(d)"
   ]
  },
  {
   "cell_type": "code",
   "execution_count": 31,
   "metadata": {},
   "outputs": [],
   "source": [
    "np.savetxt(\"N_5_m_16_evert.txt\",d16)"
   ]
  },
  {
   "cell_type": "code",
   "execution_count": 70,
   "metadata": {},
   "outputs": [],
   "source": [
    "#let's also define the functions for the theoretical predictions\n",
    "def continuous(k,m=2,A=0.3):\n",
    "    return A * (k) **((-5*k)/(k+2*m))\n",
    "\n",
    "def continuous2(k,m=2,A=0.3):\n",
    "    return ((5*m)**4/1) * (k+2*m) **(-5)\n",
    "\n",
    "def discrete(k,m=2):     \n",
    "    return (12*m*(3*m+3)*(3*m+2)*(3*m+1)) / ((k+2*m+4)*(k+2*m+3)*(k+2*m+2)*(k+2*m+1)*(k+2*m))\n",
    "\n",
    "#def discrete(k,m=2):     \n",
    " #   return (12*m*(5*m+3)*(5*m+2)*(5*m+1)) / ((k+4*m+4)*(k+4*m+3)*(k+4*m+2)*(k+4*m+1)*(k+4*m))"
   ]
  },
  {
   "cell_type": "code",
   "execution_count": 72,
   "metadata": {},
   "outputs": [
    {
     "data": {
      "image/png": "[encoded data removed]",
      "text/plain": [
       "<Figure size 432x288 with 1 Axes>"
      ]
     },
     "metadata": {
      "needs_background": "light"
     },
     "output_type": "display_data"
    }
   ],
   "source": [
    "marker = \".\"\n",
    "a = 0.5\n",
    "s = 1.2\n",
    "\n",
    "x,y = logbin(np.asarray(d2).flatten(),scale = s)\n",
    "#plt.figure(figsize = (10,5))\n",
    "plt.loglog(x,y,marker,color = \"blue\",label = \"$m = 2$\",\n",
    "            alpha = a)\n",
    "#get some space to plot\n",
    "space = np.arange(x[0],x[-1],0.1)\n",
    "plt.loglog(space,discrete(space,2),\"-.\", color = \"black\")\n",
    "\n",
    "x,y = logbin(np.asarray(d8).flatten(),scale = s)\n",
    "space = np.arange(x[0],x[-1],0.1)\n",
    "plt.loglog(x,y,marker,color = \"red\",label = \"$m = 8$\",\n",
    "            alpha = a)\n",
    "plt.loglog(space,discrete(space,8),\"-.\", color = \"black\")\n",
    "\n",
    "x,y = logbin(np.asarray(d16).flatten(),scale = s)\n",
    "space = np.arange(x[0],x[-1],0.1)\n",
    "plt.loglog(x,y,marker,color = \"green\",label = \"$m = 16$\",\n",
    "            alpha = a)\n",
    "plt.loglog(space,discrete(space,m=16),\"-.\", color = \"black\")\n",
    "\n",
    "plt.grid()\n",
    "plt.xlabel(\"$k$\")\n",
    "plt.ylabel(\"$P(k)$\")\n",
    "plt.legend(bbox_to_anchor = (1,1))\n",
    "plt.savefig(\"Figures\\\\fixed_N_5_changing_m_vert_initial.pdf\",bbox_inches='tight')"
   ]
  },
  {
   "cell_type": "code",
   "execution_count": 68,
   "metadata": {},
   "outputs": [
    {
     "data": {
      "image/png": "[encoded data removed]",
      "text/plain": [
       "<Figure size 432x288 with 1 Axes>"
      ]
     },
     "metadata": {
      "needs_background": "light"
     },
     "output_type": "display_data"
    }
   ],
   "source": [
    "s = 1.1\n",
    "\n",
    "x,y = logbin(np.asarray(d2).flatten(),scale = s)\n",
    "plt.semilogx(x,(discrete(x,m=2)-y)/y,\".\", color = \"blue\", label = \"$m = 2$\")\n",
    "\n",
    "x,y = logbin(np.asarray(d8).flatten(),scale = s)\n",
    "plt.semilogx(x,(discrete(x,m=8)-y)/y,\".\", color = \"red\", label = \"$m = 5$\")\n",
    "\n",
    "x,y = logbin(np.asarray(d16).flatten(),scale = s)\n",
    "plt.semilogx(x,(discrete(x,m=16)-y)/y,\".\", color = \"green\", label = \"$m = 20$\")\n",
    "\n",
    "\n",
    "#plt.ylim(-0.2,0.0)\n",
    "#plt.legend(bbox_to_anchor = (1,1),fontsize = \"large\")\n",
    "plt.grid()\n",
    "plt.xlabel(\"$k$\")\n",
    "plt.ylabel(\"Fractonial Difference\")\n",
    "plt.savefig(\"fdifference_evert.pdf\", bbox_inches = \"tight\")"
   ]
  }
 ],
 "metadata": {
  "kernelspec": {
   "display_name": "Python 3",
   "language": "python",
   "name": "python3"
  },
  "language_info": {
   "codemirror_mode": {
    "name": "ipython",
    "version": 3
   },
   "file_extension": ".py",
   "mimetype": "text/x-python",
   "name": "python",
   "nbconvert_exporter": "python",
   "pygments_lexer": "ipython3",
   "version": "3.7.0"
  }
 },
 "nbformat": 4,
 "nbformat_minor": 2
}
